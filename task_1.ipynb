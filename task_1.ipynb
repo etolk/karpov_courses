{
 "metadata": {
  "language_info": {
   "codemirror_mode": {
    "name": "ipython",
    "version": 3
   },
   "file_extension": ".py",
   "mimetype": "text/x-python",
   "name": "python",
   "nbconvert_exporter": "python",
   "pygments_lexer": "ipython3",
   "version": "3.8.1-final"
  },
  "orig_nbformat": 2,
  "kernelspec": {
   "name": "Python 3.8.1 64-bit ('python38': conda)",
   "display_name": "Python 3.8.1 64-bit ('python38': conda)",
   "metadata": {
    "interpreter": {
     "hash": "e1c5a7a446019f917477635c6bbfe74367a5299979506037bc9fa89d81aa5bcb"
    }
   }
  }
 },
 "nbformat": 4,
 "nbformat_minor": 2,
 "cells": [
  {
   "cell_type": "code",
   "execution_count": 1,
   "metadata": {},
   "outputs": [],
   "source": [
    "import pandas as pd\n",
    "import itertools"
   ]
  },
  {
   "cell_type": "code",
   "execution_count": 83,
   "metadata": {},
   "outputs": [],
   "source": [
    "df = pd.read_csv('https://stepik.org/media/attachments/lesson/409319/test1_completed.csv')"
   ]
  },
  {
   "cell_type": "code",
   "execution_count": 84,
   "metadata": {},
   "outputs": [
    {
     "output_type": "execute_result",
     "data": {
      "text/plain": [
       "      id            Товар  Количество\n",
       "0  17119            Лимон         1.1\n",
       "1  17119  Лимон оранжевый         0.7\n",
       "2  17119        Лук-порей        10.0\n",
       "3  17119     Лук репчатый         2.5\n",
       "4  17119    Малина свежая         1.0"
      ],
      "text/html": "<div>\n<style scoped>\n    .dataframe tbody tr th:only-of-type {\n        vertical-align: middle;\n    }\n\n    .dataframe tbody tr th {\n        vertical-align: top;\n    }\n\n    .dataframe thead th {\n        text-align: right;\n    }\n</style>\n<table border=\"1\" class=\"dataframe\">\n  <thead>\n    <tr style=\"text-align: right;\">\n      <th></th>\n      <th>id</th>\n      <th>Товар</th>\n      <th>Количество</th>\n    </tr>\n  </thead>\n  <tbody>\n    <tr>\n      <th>0</th>\n      <td>17119</td>\n      <td>Лимон</td>\n      <td>1.1</td>\n    </tr>\n    <tr>\n      <th>1</th>\n      <td>17119</td>\n      <td>Лимон оранжевый</td>\n      <td>0.7</td>\n    </tr>\n    <tr>\n      <th>2</th>\n      <td>17119</td>\n      <td>Лук-порей</td>\n      <td>10.0</td>\n    </tr>\n    <tr>\n      <th>3</th>\n      <td>17119</td>\n      <td>Лук репчатый</td>\n      <td>2.5</td>\n    </tr>\n    <tr>\n      <th>4</th>\n      <td>17119</td>\n      <td>Малина свежая</td>\n      <td>1.0</td>\n    </tr>\n  </tbody>\n</table>\n</div>"
     },
     "metadata": {},
     "execution_count": 84
    }
   ],
   "source": [
    "df.head()"
   ]
  },
  {
   "cell_type": "code",
   "execution_count": 4,
   "metadata": {},
   "outputs": [],
   "source": [
    "id = df.id.unique() #берем все уникальные id заказов\n",
    "results = []\n",
    "for i in id:\n",
    "    a = df[df.id == i]['Товар'].to_list() #вытаскиваем все товары из каждого заказа\n",
    "    a.sort() #сортируем по названию, чтобы исключить повторяющиеся пары\n",
    "    b = list(itertools.combinations(a, 2)) #создаем список из всех комбинаций товаров в каждом конкретном заказе\n",
    "    for elem in b:\n",
    "        results.append(elem) #записываем в список"
   ]
  },
  {
   "cell_type": "code",
   "execution_count": 60,
   "metadata": {},
   "outputs": [],
   "source": [
    "S = {}\n",
    "for elem in results:\n",
    "    S[elem] = S.get(elem, 0) + 1 #создаем словарь и записываем в него все уникальные пары и считаем их количество"
   ]
  },
  {
   "cell_type": "code",
   "execution_count": 67,
   "metadata": {},
   "outputs": [],
   "source": [
    "sort_orders = sorted(S.items(), key=lambda x: x[1], reverse=True) #сортируем словарь по убыванию встречаемости пар"
   ]
  },
  {
   "cell_type": "code",
   "execution_count": 79,
   "metadata": {},
   "outputs": [],
   "source": [
    "data = pd.DataFrame.from_dict(sort_orders)\n",
    "data.columns = ['Пары', 'Встречаемость'] #делаем из словаря DataFrame для наглядности представления информации"
   ]
  },
  {
   "cell_type": "code",
   "execution_count": 81,
   "metadata": {},
   "outputs": [
    {
     "output_type": "execute_result",
     "data": {
      "text/plain": [
       "                           Пары  Встречаемость\n",
       "0    (Огурцы Луховицкие, Укроп)            431\n",
       "1             (Петрушка, Укроп)            408\n",
       "2    (Арбуз, Огурцы Луховицкие)            345\n",
       "3  (Кабачки, Огурцы Луховицкие)            326\n",
       "4                (Кинза, Укроп)            303"
      ],
      "text/html": "<div>\n<style scoped>\n    .dataframe tbody tr th:only-of-type {\n        vertical-align: middle;\n    }\n\n    .dataframe tbody tr th {\n        vertical-align: top;\n    }\n\n    .dataframe thead th {\n        text-align: right;\n    }\n</style>\n<table border=\"1\" class=\"dataframe\">\n  <thead>\n    <tr style=\"text-align: right;\">\n      <th></th>\n      <th>Пары</th>\n      <th>Встречаемость</th>\n    </tr>\n  </thead>\n  <tbody>\n    <tr>\n      <th>0</th>\n      <td>(Огурцы Луховицкие, Укроп)</td>\n      <td>431</td>\n    </tr>\n    <tr>\n      <th>1</th>\n      <td>(Петрушка, Укроп)</td>\n      <td>408</td>\n    </tr>\n    <tr>\n      <th>2</th>\n      <td>(Арбуз, Огурцы Луховицкие)</td>\n      <td>345</td>\n    </tr>\n    <tr>\n      <th>3</th>\n      <td>(Кабачки, Огурцы Луховицкие)</td>\n      <td>326</td>\n    </tr>\n    <tr>\n      <th>4</th>\n      <td>(Кинза, Укроп)</td>\n      <td>303</td>\n    </tr>\n  </tbody>\n</table>\n</div>"
     },
     "metadata": {},
     "execution_count": 81
    }
   ],
   "source": [
    "data.head(5) #выводим top 5"
   ]
  }
 ]
}